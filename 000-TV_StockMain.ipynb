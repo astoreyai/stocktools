{
 "cells": [
  {
   "cell_type": "markdown",
   "id": "ee1ce35b",
   "metadata": {},
   "source": [
    "### Install necessary libraries"
   ]
  },
  {
   "cell_type": "code",
   "execution_count": null,
   "id": "1a2a8314",
   "metadata": {},
   "outputs": [],
   "source": [
    "# %pip install pandas numpy TA-Lib yfinance python-telegram-bot asyncio nest_asyncio tqdm py-telegram-notifier"
   ]
  },
  {
   "cell_type": "markdown",
   "id": "86aac68f",
   "metadata": {},
   "source": [
    "### Stock Utility Actions"
   ]
  },
  {
   "cell_type": "markdown",
   "id": "e6c3d285",
   "metadata": {},
   "source": [
    "#### Reset data directories"
   ]
  },
  {
   "cell_type": "code",
   "execution_count": null,
   "id": "1f2054cd",
   "metadata": {},
   "outputs": [],
   "source": [
    "%run /home/aaron/GitHub/astoreyai/stock_pipeline/scripts_old/data_delete.py"
   ]
  },
  {
   "cell_type": "markdown",
   "id": "4399a8c9",
   "metadata": {},
   "source": [
    "#### Move and format symbol file"
   ]
  },
  {
   "cell_type": "code",
   "execution_count": 17,
   "id": "139e8994",
   "metadata": {},
   "outputs": [],
   "source": [
    "%run /home/aaron/GitHub/astoreyai/stock_pipeline/scripts_old/move_tvtickers.py"
   ]
  },
  {
   "cell_type": "markdown",
   "id": "360f1e08",
   "metadata": {},
   "source": [
    "#### Download Stock data from Yahoo Finance"
   ]
  },
  {
   "cell_type": "code",
   "execution_count": null,
   "id": "0028772d",
   "metadata": {},
   "outputs": [],
   "source": []
  }
 ],
 "metadata": {
  "kernelspec": {
   "display_name": ".venv",
   "language": "python",
   "name": "python3"
  },
  "language_info": {
   "codemirror_mode": {
    "name": "ipython",
    "version": 3
   },
   "file_extension": ".py",
   "mimetype": "text/x-python",
   "name": "python",
   "nbconvert_exporter": "python",
   "pygments_lexer": "ipython3",
   "version": "3.11.2"
  }
 },
 "nbformat": 4,
 "nbformat_minor": 5
}
