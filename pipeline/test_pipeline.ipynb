{
 "cells": [
  {
   "cell_type": "code",
   "execution_count": 1,
   "metadata": {},
   "outputs": [],
   "source": [
    "# %pip install pandas yfinance TA-Lib telegram python-telegram-bot python-dotenv"
   ]
  },
  {
   "cell_type": "code",
   "execution_count": null,
   "metadata": {},
   "outputs": [],
   "source": [
    "import pandas as pd\n",
    "import logging\n",
    "\n",
    "# Import custom modules (ensure they are accessible in your Jupyter environment)\n",
    "from stock_fetch import StockFetch\n",
    "from stock_prep import StockPrep, StockFilter\n",
    "from stock_indicators import StockIndicators, StockScreener\n",
    "from stock_notifier import TelegramNotifier\n",
    "from config import CONSOLIDATED_OUTPUT_FILE, STOCK_POST_DIR"
   ]
  },
  {
   "cell_type": "code",
   "execution_count": null,
   "metadata": {},
   "outputs": [],
   "source": [
    "# Step 1: Fetch stock data\n",
    "print(\"Fetching stock data...\")\n",
    "fetcher = StockFetch()\n",
    "failed_symbols = fetcher.download_stock_data()\n",
    "\n",
    "# Check if any symbols failed\n",
    "if failed_symbols:\n",
    "    print(f\"Failed to download data for: {failed_symbols}\")\n",
    "else:\n",
    "    print(\"All stock data downloaded successfully.\")"
   ]
  },
  {
   "cell_type": "code",
   "execution_count": null,
   "metadata": {},
   "outputs": [],
   "source": [
    "# Step 2: Preprocess stock data\n",
    "print(\"Preprocessing stock data...\")\n",
    "prep = StockPrep()\n",
    "preprocessed_files = prep.preprocess_all()\n",
    "\n",
    "# Display preprocessed files\n",
    "if preprocessed_files:\n",
    "    print(\"Preprocessed files:\")\n",
    "    for file in preprocessed_files:\n",
    "        print(file)\n",
    "else:\n",
    "    print(\"No files were preprocessed.\")"
   ]
  },
  {
   "cell_type": "code",
   "execution_count": null,
   "metadata": {},
   "outputs": [],
   "source": [
    "# Step 3: Process all indicators\n",
    "print(\"Processing stock indicators...\")\n",
    "screener = StockScreener(stock_dir=STOCK_POST_DIR)\n",
    "\n",
    "# Define the list of indicators\n",
    "indicators = [StockIndicators.calculate_macd, StockIndicators.calculate_rsi]\n",
    "\n",
    "# Call screen_by_indicators with the list of indicators and the output file\n",
    "screener.screen_by_indicators(indicators=indicators, output_file=CONSOLIDATED_OUTPUT_FILE)\n",
    "\n",
    "# Load and display consolidated signals (optional)\n",
    "consolidated_signals = pd.read_csv(CONSOLIDATED_OUTPUT_FILE)\n",
    "print(\"Consolidated signals saved to:\", CONSOLIDATED_OUTPUT_FILE)\n",
    "\n",
    "# Display the first few rows of the saved signals\n",
    "consolidated_signals.head()"
   ]
  },
  {
   "cell_type": "code",
   "execution_count": null,
   "metadata": {},
   "outputs": [],
   "source": [
    "print(\"Filtering and aggregating stock signals...\")\n",
    "\n",
    "# Initialize StockFilter and tally signals\n",
    "stock_filter = StockFilter(CONSOLIDATED_OUTPUT_FILE)\n",
    "stock_filter.tally_signals()  # Tally signals within the lookback period\n",
    "\n",
    "# Check if there is filtered data\n",
    "if stock_filter.filtered_data is not None and not stock_filter.filtered_data.empty:\n",
    "    # Sort data by symbol and datetime (alphabetize)\n",
    "    filtered_data = stock_filter.filtered_data.sort_values(by=['symbol', 'datetime'], ascending=[True, False])\n",
    "    stock_filter.filtered_data = filtered_data.copy()  # Use `.copy()` to avoid SettingWithCopyWarning\n",
    "\n",
    "    # Save filtered and aggregated signals to a file\n",
    "    filtered_output_file = CONSOLIDATED_OUTPUT_FILE.replace(\".csv\", \"_filtered.csv\")\n",
    "    stock_filter.save_filtered_data(filtered_output_file)\n",
    "\n",
    "    # Display filtered and aggregated data\n",
    "    print(\"Filtered and aggregated signals:\")\n",
    "    display(stock_filter.filtered_data)  # Use `display()` for better visualization in Jupyter Notebook\n",
    "else:\n",
    "    print(\"No signals found after filtering and aggregation.\")"
   ]
  },
  {
   "cell_type": "code",
   "execution_count": null,
   "metadata": {},
   "outputs": [],
   "source": [
    "# Step 5: Send notifications via Telegram\n",
    "print(\"Sending notifications via Telegram...\")\n",
    "\n",
    "# Check if filtered data exists and is not empty\n",
    "if stock_filter.filtered_data is not None and not stock_filter.filtered_data.empty:\n",
    "    try:\n",
    "        # Initialize TelegramNotifier\n",
    "        notifier = TelegramNotifier()\n",
    "\n",
    "        # Format the filtered signals for the message\n",
    "        formatted_message = notifier.format_signals(stock_filter.filtered_data)\n",
    "\n",
    "        # Display the formatted message for verification\n",
    "        print(\"Message to be sent via Telegram:\")\n",
    "        print(formatted_message)\n",
    "\n",
    "        # Send the message via Telegram\n",
    "        notifier.send_message(formatted_message)\n",
    "        print(\"✅ Notification sent successfully.\")\n",
    "\n",
    "    except Exception as e:\n",
    "        # Handle any exceptions during the notification process\n",
    "        print(f\"❌ Error while sending Telegram notification: {e}\")\n",
    "        logging.error(f\"Error while sending Telegram notification: {e}\")\n",
    "\n",
    "else:\n",
    "    # Handle the case where there are no signals to send\n",
    "    print(\"🚨 No stock signals to send via Telegram.\")"
   ]
  }
 ],
 "metadata": {
  "kernelspec": {
   "display_name": "venv",
   "language": "python",
   "name": "python3"
  },
  "language_info": {
   "codemirror_mode": {
    "name": "ipython",
    "version": 3
   },
   "file_extension": ".py",
   "mimetype": "text/x-python",
   "name": "python",
   "nbconvert_exporter": "python",
   "pygments_lexer": "ipython3",
   "version": "3.11.2"
  }
 },
 "nbformat": 4,
 "nbformat_minor": 2
}
