{
 "cells": [
  {
   "cell_type": "code",
   "execution_count": 1,
   "metadata": {},
   "outputs": [],
   "source": [
    "# %pip install pandas yfinance TA-Lib telegram python-telegram-bot python-dotenv"
   ]
  },
  {
   "cell_type": "code",
   "execution_count": 9,
   "metadata": {},
   "outputs": [
    {
     "ename": "NameError",
     "evalue": "name 'macd_signals' is not defined",
     "output_type": "error",
     "traceback": [
      "\u001b[0;31m---------------------------------------------------------------------------\u001b[0m",
      "\u001b[0;31mNameError\u001b[0m                                 Traceback (most recent call last)",
      "File \u001b[0;32m~/github/astoreyai/stocktools/pipeline/run_pipeline.py:35\u001b[0m\n\u001b[1;32m     32\u001b[0m         \u001b[38;5;28mprint\u001b[39m(\u001b[38;5;124m\"\u001b[39m\u001b[38;5;124mNo stock signals to send via Telegram.\u001b[39m\u001b[38;5;124m\"\u001b[39m)\n\u001b[1;32m     34\u001b[0m \u001b[38;5;28;01mif\u001b[39;00m \u001b[38;5;18m__name__\u001b[39m \u001b[38;5;241m==\u001b[39m \u001b[38;5;124m\"\u001b[39m\u001b[38;5;124m__main__\u001b[39m\u001b[38;5;124m\"\u001b[39m:\n\u001b[0;32m---> 35\u001b[0m     \u001b[43mmain\u001b[49m\u001b[43m(\u001b[49m\u001b[43m)\u001b[49m\n",
      "File \u001b[0;32m~/github/astoreyai/stocktools/pipeline/run_pipeline.py:19\u001b[0m, in \u001b[0;36mmain\u001b[0;34m()\u001b[0m\n\u001b[1;32m     17\u001b[0m screener \u001b[38;5;241m=\u001b[39m StockScreener(stock_dir\u001b[38;5;241m=\u001b[39mSTOCK_POST_DIR)\n\u001b[1;32m     18\u001b[0m screener\u001b[38;5;241m.\u001b[39mscreen_by_indicator(Indicator\u001b[38;5;241m.\u001b[39mcalculate_macd)\n\u001b[0;32m---> 19\u001b[0m screener\u001b[38;5;241m.\u001b[39msave_signals_to_file(\u001b[43mmacd_signals\u001b[49m, output_file\u001b[38;5;241m=\u001b[39mCONSOLIDATED_OUTPUT_FILE)\n\u001b[1;32m     21\u001b[0m \u001b[38;5;66;03m# Step 4: Filter stock signals\u001b[39;00m\n\u001b[1;32m     22\u001b[0m stock_filter \u001b[38;5;241m=\u001b[39m StockFilter(CONSOLIDATED_OUTPUT_FILE)\n",
      "\u001b[0;31mNameError\u001b[0m: name 'macd_signals' is not defined"
     ]
    }
   ],
   "source": [
    "%run run_pipeline.py"
   ]
  },
  {
   "cell_type": "code",
   "execution_count": null,
   "metadata": {},
   "outputs": [],
   "source": [
    "# from stock_fetch import StockFetch\n",
    "# from stock_prep import StockPrep, StockFilter\n",
    "# from stock_indicators import Indicator, StockScreener\n",
    "# from stock_notifier import TelegramNotifier\n",
    "# from config import CONSOLIDATED_OUTPUT_FILE, STOCK_POST_DIR\n",
    "\n",
    "# # Print configuration paths for verification\n",
    "# print(f\"Consolidated Output File: {CONSOLIDATED_OUTPUT_FILE}\")\n",
    "# print(f\"Processed Stock Data Directory: {STOCK_POST_DIR}\")"
   ]
  },
  {
   "cell_type": "code",
   "execution_count": null,
   "metadata": {},
   "outputs": [],
   "source": [
    "# # Initialize StockFetch and download stock data\n",
    "# fetcher = StockFetch()\n",
    "# failed_symbols = fetcher.download_stock_data()\n",
    "\n",
    "# # Check if any symbols failed\n",
    "# if failed_symbols:\n",
    "#     print(f\"Failed to download data for: {failed_symbols}\")\n",
    "# else:\n",
    "#     print(\"All stock data downloaded successfully.\")"
   ]
  },
  {
   "cell_type": "code",
   "execution_count": null,
   "metadata": {},
   "outputs": [],
   "source": [
    "# # Initialize StockPrep and preprocess raw stock data\n",
    "# prep = StockPrep()\n",
    "# preprocessed_files = prep.preprocess_all()\n",
    "\n",
    "# # Display preprocessed files\n",
    "# if preprocessed_files:\n",
    "#     print(\"Preprocessed files:\")\n",
    "#     for file in preprocessed_files:\n",
    "#         print(file)\n",
    "# else:\n",
    "#     print(\"No files were preprocessed.\")"
   ]
  },
  {
   "cell_type": "code",
   "execution_count": null,
   "metadata": {},
   "outputs": [],
   "source": [
    "# # Initialize StockScreener and screen for MACD signals\n",
    "# screener = StockScreener(stock_dir=STOCK_POST_DIR)\n",
    "# macd_signals = screener.screen_by_indicator(Indicator.calculate_macd)\n",
    "\n",
    "# # Save signals to the consolidated output file\n",
    "# screener.save_signals_to_file(macd_signals, output_file=CONSOLIDATED_OUTPUT_FILE)\n",
    "\n",
    "# # Display saved signals\n",
    "# print(\"MACD Signals saved to:\", CONSOLIDATED_OUTPUT_FILE)\n"
   ]
  },
  {
   "cell_type": "code",
   "execution_count": null,
   "metadata": {},
   "outputs": [],
   "source": [
    "# # Initialize StockFilter and filter the consolidated output file\n",
    "# stock_filter = StockFilter(CONSOLIDATED_OUTPUT_FILE)\n",
    "# stock_filter.filter_and_sort_data()\n",
    "\n",
    "# # Load and display the filtered data\n",
    "# filtered_data = stock_filter.filtered_data\n",
    "# if filtered_data is not None and not filtered_data.empty:\n",
    "#     print(\"Filtered Signals:\")\n",
    "#     display(filtered_data)  # Jupyter's display function\n",
    "# else:\n",
    "#     print(\"No signals found after filtering.\")\n"
   ]
  },
  {
   "cell_type": "code",
   "execution_count": null,
   "metadata": {},
   "outputs": [],
   "source": [
    "# # Initialize TelegramNotifier and send signals\n",
    "# if filtered_data is not None and not filtered_data.empty:\n",
    "#     notifier = TelegramNotifier()\n",
    "#     formatted_message = notifier.format_signals(filtered_data)\n",
    "\n",
    "#     # Display the message to be sent\n",
    "#     print(\"Message to be sent via Telegram:\")\n",
    "#     print(formatted_message)\n",
    "\n",
    "#     # Send the message\n",
    "#     notifier.send_message(formatted_message)\n",
    "# else:\n",
    "#     print(\"No stock signals to send via Telegram.\")"
   ]
  }
 ],
 "metadata": {
  "kernelspec": {
   "display_name": "venv",
   "language": "python",
   "name": "python3"
  },
  "language_info": {
   "codemirror_mode": {
    "name": "ipython",
    "version": 3
   },
   "file_extension": ".py",
   "mimetype": "text/x-python",
   "name": "python",
   "nbconvert_exporter": "python",
   "pygments_lexer": "ipython3",
   "version": "3.11.2"
  }
 },
 "nbformat": 4,
 "nbformat_minor": 2
}
